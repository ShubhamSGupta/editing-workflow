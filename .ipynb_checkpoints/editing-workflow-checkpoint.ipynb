{
 "cells": [
  {
   "cell_type": "code",
   "execution_count": 1,
   "metadata": {},
   "outputs": [],
   "source": [
    "# import necessary libraries\n",
    "import pandas as pd\n",
    "import qgrid\n",
    "import ipywidgets as widgets\n",
    "\n",
    "# set display options\n",
    "qgrid.set_grid_option('forceFitColumns', False)\n",
    "pd.options.display.max_columns = 25\n",
    "pd.set_option('max_colwidth', 600)"
   ]
  },
  {
   "cell_type": "code",
   "execution_count": 2,
   "metadata": {},
   "outputs": [
    {
     "data": {
      "application/vnd.jupyter.widget-view+json": {
       "model_id": "2a92a2e53aea4e3c89da304cf0d52e90",
       "version_major": 2,
       "version_minor": 0
      },
      "text/plain": [
       "Output(layout=Layout(border='1px solid black', height='99%', overflow='auto', overflow_x='auto', overflow_y='a…"
      ]
     },
     "metadata": {},
     "output_type": "display_data"
    }
   ],
   "source": [
    "# create and display output widget for the currently selected row\n",
    "current_row = widgets.Output(layout=widgets.Layout(border='1px solid black', \n",
    "                                                   height='99%', \n",
    "                                                   width='99%', \n",
    "                                                   overflow_x='auto', \n",
    "                                                   overflow_y='auto', \n",
    "                                                   overflow='auto')\n",
    "                            )\n",
    "current_row"
   ]
  },
  {
   "cell_type": "code",
   "execution_count": 3,
   "metadata": {},
   "outputs": [
    {
     "data": {
      "application/vnd.jupyter.widget-view+json": {
       "model_id": "732b33a7566546f8a49baa3b9e23453f",
       "version_major": 2,
       "version_minor": 0
      },
      "text/plain": [
       "VBox(children=(HBox(children=(Text(value='', placeholder='File name'), Button(description='Export to CSV', sty…"
      ]
     },
     "metadata": {},
     "output_type": "display_data"
    }
   ],
   "source": [
    "# Create and display the output widget for edited rows, and create the DataFrame to hold the edits\n",
    "\n",
    "# Make the DataFrame to hold edited rows\n",
    "edit_cols = ['data', 'index', 'column', 'old', 'new']\n",
    "edits = pd.DataFrame(columns=edit_cols)\n",
    "\n",
    "# Make the three components for the edited rows widget\n",
    "edited_cells = widgets.Output(layout=widgets.Layout(border='1px solid black', overflow_y='auto', height='150px'))\n",
    "edits_file_name = widgets.Text(placeholder='File name')\n",
    "export_button = widgets.Button(description='Export to CSV', tooltip='Export your edits to CSV')\n",
    "clear_button = widgets.Button(description='Clear edits', tooltip='Clear the output widget and all stored edits')\n",
    "\n",
    "# Function to use when the 'Export to CSV' button is clicked\n",
    "def export_edits(sender):\n",
    "    name = edits_file_name.value\n",
    "    edits.to_csv(f'{name}.csv')\n",
    "\n",
    "# Function to use when the 'Clear edits' button is clicked\n",
    "def clear_edits(sender):\n",
    "    edited_cells.clear_output()\n",
    "    global edits\n",
    "    edits = pd.DataFrame(columns=edit_cols)\n",
    "    \n",
    "# Construct and display the widget\n",
    "# The widget will appear as the output of this cell\n",
    "# Right-click it and select \"Create New View for Output\", then drag it to the right side of the screen\n",
    "# Finally, hide the cell's output by clicking the blue bar to the left of the output\n",
    "export_button.on_click(export_edits)\n",
    "clear_button.on_click(clear_edits)\n",
    "export_features = widgets.HBox([edits_file_name, export_button, clear_button])\n",
    "widgets.VBox([export_features, edited_cells])"
   ]
  },
  {
   "cell_type": "code",
   "execution_count": 6,
   "metadata": {},
   "outputs": [],
   "source": [
    "# This cell creates two Qgrid event handlers and links them with the appropriate output widgets\n",
    "\n",
    "# Display the currently selected row from any Qgrid widget in the current_row output widget\n",
    "# This will be activated when Qgrid detects that a new row is selected\n",
    "def get_current_row(event, qgrid_widget):\n",
    "    output_area = current_row\n",
    "    with output_area:\n",
    "        display(qgrid_widget.get_selected_df().T)\n",
    "        output_area.clear_output(wait=True)\n",
    "        \n",
    "\n",
    "# Display the edits in the edited_cells output widget and store them in the edits DataFrame\n",
    "# This will be activated when Qgrid detects that a cell is edited\n",
    "def get_edits(event, qgrid_widget):\n",
    "    output_area = edited_cells\n",
    "    with output_area:\n",
    "        event['data']=[name for name, val in globals().items() if val is qgrid_widget.df][0]\n",
    "        event_index = event['index']\n",
    "        event_column = event['column']\n",
    "        event_old = event['old']\n",
    "        event_new = event['new']\n",
    "        event_data = event['data']\n",
    "        print(f'{event_data}[{event_index}, {event_column}] \\t old: {event_old} \\t new: {event_new}')\n",
    "        relevant = ['index', 'column', 'data', 'old', 'new']\n",
    "        global edits\n",
    "        edits = edits.append({k: event[k] for k in relevant}, ignore_index=True)\n",
    "        \n",
    "\n",
    "# Link the two functions above to the appropriate Qgrid events\n",
    "qgrid.on(['selection_changed'], get_current_row)\n",
    "qgrid.on(['cell_edited'], get_edits)"
   ]
  },
  {
   "cell_type": "code",
   "execution_count": 5,
   "metadata": {},
   "outputs": [
    {
     "data": {
      "application/vnd.jupyter.widget-view+json": {
       "model_id": "028d1a715616437c9ab4d905bc46cbe6",
       "version_major": 2,
       "version_minor": 0
      },
      "text/plain": [
       "QgridWidget(grid_options={'fullWidthRows': True, 'syncColumnCellResize': True, 'forceFitColumns': False, 'defa…"
      ]
     },
     "metadata": {},
     "output_type": "display_data"
    }
   ],
   "source": [
    "# Import a CSV file and display it as a Qgrid widget\n",
    "df = pd.read_csv('sampledata.csv', encoding = 'ISO-8859-1')\n",
    "qgrid_df = qgrid.show_grid(df)\n",
    "qgrid_df\n",
    "\n",
    "# You don't have to set your QgridWidget instance to variable like in Line 3\n",
    "# But doing so lets you call the get_changed_df() method, which opens up visualization options"
   ]
  },
  {
   "cell_type": "code",
   "execution_count": null,
   "metadata": {},
   "outputs": [],
   "source": []
  }
 ],
 "metadata": {
  "kernelspec": {
   "display_name": "Python 3",
   "language": "python",
   "name": "python3"
  },
  "language_info": {
   "codemirror_mode": {
    "name": "ipython",
    "version": 3
   },
   "file_extension": ".py",
   "mimetype": "text/x-python",
   "name": "python",
   "nbconvert_exporter": "python",
   "pygments_lexer": "ipython3",
   "version": "3.7.2"
  }
 },
 "nbformat": 4,
 "nbformat_minor": 2
}
